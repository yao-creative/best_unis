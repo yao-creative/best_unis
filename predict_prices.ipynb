{
 "cells": [
  {
   "cell_type": "code",
   "execution_count": 2,
   "metadata": {},
   "outputs": [],
   "source": [
    "import pandas as pd\n",
    "import numpy as np\n",
    "import matplotlib as plt\n",
    "import seaborn as sns\n",
    "from bs4 import BeautifulSoup\n",
    "\n",
    "import tensorflow as tf\n",
    "from tensorflow import keras"
   ]
  },
  {
   "cell_type": "markdown",
   "metadata": {},
   "source": [
    "(I didn't know pandas could just read html tables until now)\n",
    "Process the types in the table"
   ]
  },
  {
   "cell_type": "code",
   "execution_count": 3,
   "metadata": {},
   "outputs": [
    {
     "data": {
      "text/html": [
       "<div>\n",
       "<style scoped>\n",
       "    .dataframe tbody tr th:only-of-type {\n",
       "        vertical-align: middle;\n",
       "    }\n",
       "\n",
       "    .dataframe tbody tr th {\n",
       "        vertical-align: top;\n",
       "    }\n",
       "\n",
       "    .dataframe thead th {\n",
       "        text-align: right;\n",
       "    }\n",
       "</style>\n",
       "<table border=\"1\" class=\"dataframe\">\n",
       "  <thead>\n",
       "    <tr style=\"text-align: right;\">\n",
       "      <th></th>\n",
       "      <th>PBA_rank</th>\n",
       "      <th>Uni_name</th>\n",
       "      <th>Times_rank</th>\n",
       "      <th>USnews_rank</th>\n",
       "      <th>JT_rank</th>\n",
       "      <th>PBA_pts</th>\n",
       "      <th>Num_students</th>\n",
       "      <th>Cost</th>\n",
       "    </tr>\n",
       "  </thead>\n",
       "  <tbody>\n",
       "    <tr>\n",
       "      <th>0</th>\n",
       "      <td>1</td>\n",
       "      <td>Harvard University</td>\n",
       "      <td>1</td>\n",
       "      <td>1</td>\n",
       "      <td>1</td>\n",
       "      <td>3</td>\n",
       "      <td>19257</td>\n",
       "      <td>36.173</td>\n",
       "    </tr>\n",
       "    <tr>\n",
       "      <th>1</th>\n",
       "      <td>2</td>\n",
       "      <td>Princeton University</td>\n",
       "      <td>3</td>\n",
       "      <td>2</td>\n",
       "      <td>7</td>\n",
       "      <td>12</td>\n",
       "      <td>7334</td>\n",
       "      <td>34.290</td>\n",
       "    </tr>\n",
       "    <tr>\n",
       "      <th>2</th>\n",
       "      <td>3</td>\n",
       "      <td>Massachusetts Institute of Technology</td>\n",
       "      <td>6</td>\n",
       "      <td>4</td>\n",
       "      <td>4</td>\n",
       "      <td>14</td>\n",
       "      <td>1022</td>\n",
       "      <td>36.390</td>\n",
       "    </tr>\n",
       "    <tr>\n",
       "      <th>3</th>\n",
       "      <td>3</td>\n",
       "      <td>Yale University</td>\n",
       "      <td>2</td>\n",
       "      <td>3</td>\n",
       "      <td>9</td>\n",
       "      <td>14</td>\n",
       "      <td>11454</td>\n",
       "      <td>35.300</td>\n",
       "    </tr>\n",
       "    <tr>\n",
       "      <th>4</th>\n",
       "      <td>5</td>\n",
       "      <td>California Institute of Technology</td>\n",
       "      <td>4</td>\n",
       "      <td>6</td>\n",
       "      <td>5</td>\n",
       "      <td>15</td>\n",
       "      <td>2133</td>\n",
       "      <td>34.437</td>\n",
       "    </tr>\n",
       "    <tr>\n",
       "      <th>...</th>\n",
       "      <td>...</td>\n",
       "      <td>...</td>\n",
       "      <td>...</td>\n",
       "      <td>...</td>\n",
       "      <td>...</td>\n",
       "      <td>...</td>\n",
       "      <td>...</td>\n",
       "      <td>...</td>\n",
       "    </tr>\n",
       "    <tr>\n",
       "      <th>95</th>\n",
       "      <td>95</td>\n",
       "      <td>University of South Carolina</td>\n",
       "      <td>84</td>\n",
       "      <td>108</td>\n",
       "      <td>73</td>\n",
       "      <td>265</td>\n",
       "      <td>27272</td>\n",
       "      <td>22.908</td>\n",
       "    </tr>\n",
       "    <tr>\n",
       "      <th>96</th>\n",
       "      <td>97</td>\n",
       "      <td>Colorado State University</td>\n",
       "      <td>79</td>\n",
       "      <td>125</td>\n",
       "      <td>62</td>\n",
       "      <td>266</td>\n",
       "      <td>27569</td>\n",
       "      <td>21.590</td>\n",
       "    </tr>\n",
       "    <tr>\n",
       "      <th>97</th>\n",
       "      <td>98</td>\n",
       "      <td>Worcester Polytechnic Institute</td>\n",
       "      <td>90</td>\n",
       "      <td>71</td>\n",
       "      <td>109</td>\n",
       "      <td>270</td>\n",
       "      <td>4157</td>\n",
       "      <td>36.390</td>\n",
       "    </tr>\n",
       "    <tr>\n",
       "      <th>98</th>\n",
       "      <td>99</td>\n",
       "      <td>Baylor University</td>\n",
       "      <td>90</td>\n",
       "      <td>76</td>\n",
       "      <td>109</td>\n",
       "      <td>275</td>\n",
       "      <td>14174</td>\n",
       "      <td>26.234</td>\n",
       "    </tr>\n",
       "    <tr>\n",
       "      <th>99</th>\n",
       "      <td>100</td>\n",
       "      <td>University of Kentucky</td>\n",
       "      <td>86</td>\n",
       "      <td>116</td>\n",
       "      <td>73</td>\n",
       "      <td>275</td>\n",
       "      <td>25856</td>\n",
       "      <td>15.884</td>\n",
       "    </tr>\n",
       "  </tbody>\n",
       "</table>\n",
       "<p>100 rows × 8 columns</p>\n",
       "</div>"
      ],
      "text/plain": [
       "    PBA_rank                               Uni_name  Times_rank  USnews_rank  \\\n",
       "0          1                     Harvard University           1            1   \n",
       "1          2                   Princeton University           3            2   \n",
       "2          3  Massachusetts Institute of Technology           6            4   \n",
       "3          3                        Yale University           2            3   \n",
       "4          5     California Institute of Technology           4            6   \n",
       "..       ...                                    ...         ...          ...   \n",
       "95        95           University of South Carolina          84          108   \n",
       "96        97              Colorado State University          79          125   \n",
       "97        98        Worcester Polytechnic Institute          90           71   \n",
       "98        99                      Baylor University          90           76   \n",
       "99       100                 University of Kentucky          86          116   \n",
       "\n",
       "    JT_rank  PBA_pts  Num_students    Cost  \n",
       "0         1        3         19257  36.173  \n",
       "1         7       12          7334  34.290  \n",
       "2         4       14          1022  36.390  \n",
       "3         9       14         11454  35.300  \n",
       "4         5       15          2133  34.437  \n",
       "..      ...      ...           ...     ...  \n",
       "95       73      265         27272  22.908  \n",
       "96       62      266         27569  21.590  \n",
       "97      109      270          4157  36.390  \n",
       "98      109      275         14174  26.234  \n",
       "99       73      275         25856  15.884  \n",
       "\n",
       "[100 rows x 8 columns]"
      ]
     },
     "execution_count": 3,
     "metadata": {},
     "output_type": "execute_result"
    },
    {
     "data": {
      "image/png": "[encoded data removed]",
      "text/plain": [
       "<Figure size 432x288 with 1 Axes>"
      ]
     },
     "metadata": {
      "needs_background": "light"
     },
     "output_type": "display_data"
    }
   ],
   "source": [
    "table = BeautifulSoup(open('unirev_best_unis.html','r').read()).find('table')\n",
    "df_list = pd.read_html(str(table))\n",
    "data = df_list[0]\n",
    "data.columns\n",
    "data.columns = ['PBA_rank', 'Uni_name',\"Times_rank\",\"USnews_rank\",\"JT_rank\",\"PBA_pts\", \"Num_students\", 'Cost']\n",
    "for col in data.columns[:-1]:\n",
    "    try:\n",
    "        data[col] = data[col].apply(lambda x: int(x))\n",
    "    except:\n",
    "        pass\n",
    "    #print(f\"col: {col} type: {type(data[col][0])}\")\n",
    "data['Cost'] = data['Cost'].apply(lambda x: int(x.replace(',','')[1:])/1000)\n",
    "data['Cost'].hist(bins = 20)\n",
    "\n",
    "data"
   ]
  },
  {
   "cell_type": "code",
   "execution_count": 4,
   "metadata": {},
   "outputs": [
    {
     "data": {
      "text/plain": [
       "<AxesSubplot:xlabel='JT_rank', ylabel='Cost'>"
      ]
     },
     "execution_count": 4,
     "metadata": {},
     "output_type": "execute_result"
    },
    {
     "data": {
      "image/png": "[encoded data removed]",
      "text/plain": [
       "<Figure size 432x288 with 1 Axes>"
      ]
     },
     "metadata": {
      "needs_background": "light"
     },
     "output_type": "display_data"
    },
    {
     "data": {
      "image/png": "[encoded data removed]",
      "text/plain": [
       "<Figure size 432x288 with 1 Axes>"
      ]
     },
     "metadata": {
      "needs_background": "light"
     },
     "output_type": "display_data"
    },
    {
     "data": {
      "image/png": "[encoded data removed]",
      "text/plain": [
       "<Figure size 432x288 with 1 Axes>"
      ]
     },
     "metadata": {
      "needs_background": "light"
     },
     "output_type": "display_data"
    },
    {
     "data": {
      "image/png": "[encoded data removed]",
      "text/plain": [
       "<Figure size 432x288 with 1 Axes>"
      ]
     },
     "metadata": {
      "needs_background": "light"
     },
     "output_type": "display_data"
    }
   ],
   "source": [
    "data.plot(x ='PBA_rank', y='Cost', kind= \"scatter\")\n",
    "data.plot(x ='Times_rank', y='Cost',kind= \"scatter\")\n",
    "data.plot(x ='USnews_rank', y='Cost',kind= \"scatter\")\n",
    "data.plot(x ='JT_rank', y='Cost',kind= \"scatter\")\n"
   ]
  },
  {
   "cell_type": "markdown",
   "metadata": {},
   "source": [
    "Seems like there's some correlation between US news and the price of the best universities"
   ]
  },
  {
   "cell_type": "markdown",
   "metadata": {},
   "source": [
    "Split the training and test sets."
   ]
  },
  {
   "cell_type": "code",
   "execution_count": 20,
   "metadata": {},
   "outputs": [],
   "source": [
    "training_set = data.sample(frac = 0.8, random_state=25)\n",
    "testing_set = data.drop(training_set.index)\n",
    "uni_name_train = training_set.pop(\"Uni_name\")\n",
    "uni_name_test = testing_set.pop(\"Uni_name\")\n",
    "y_train = tf.constant(training_set.pop(\"Cost\"), dtype = tf.float32)\n",
    "y_test = tf.constant(testing_set.pop(\"Cost\"), dtype = tf.float32)\n",
    "\n",
    "x_train =  tf.constant(training_set.pop(\"USnews_rank\"), dtype = tf.float32)\n",
    "x_test = tf.constant(testing_set.pop(\"USnews_rank\"), dtype = tf.float32)\n"
   ]
  },
  {
   "cell_type": "markdown",
   "metadata": {},
   "source": [
    "Create Model"
   ]
  },
  {
   "cell_type": "code",
   "execution_count": 21,
   "metadata": {},
   "outputs": [
    {
     "name": "stdout",
     "output_type": "stream",
     "text": [
      "WARNING:tensorflow:Please add `keras.layers.InputLayer` instead of `keras.Input` to Sequential model. `keras.Input` is intended to be used by Functional model.\n"
     ]
    }
   ],
   "source": [
    "model = keras.models.Sequential([\n",
    "    keras.layers.Input(shape = (1,)),\n",
    "    keras.layers.Dense(5, activation = \"relu\"),\n",
    "    keras.layers.Dense(70, activation = \"softmax\")\n",
    "])\n"
   ]
  },
  {
   "cell_type": "code",
   "execution_count": 24,
   "metadata": {},
   "outputs": [
    {
     "name": "stderr",
     "output_type": "stream",
     "text": [
      "/Library/Frameworks/Python.framework/Versions/3.9/lib/python3.9/site-packages/tensorflow/python/keras/optimizer_v2/optimizer_v2.py:374: UserWarning: The `lr` argument is deprecated, use `learning_rate` instead.\n",
      "  warnings.warn(\n"
     ]
    }
   ],
   "source": [
    "optimizer = keras.optimizers.Adam(lr=0.4)\n",
    "model.compile(optimizer = optimizer,\n",
    "              loss= \"sparse_categorical_crossentropy\",\n",
    "              metrics = [\"accuracy\"])\n"
   ]
  },
  {
   "cell_type": "code",
   "execution_count": 25,
   "metadata": {},
   "outputs": [
    {
     "name": "stdout",
     "output_type": "stream",
     "text": [
      "Epoch 1/100\n",
      "3/3 - 0s - loss: 2.9950 - accuracy: 0.0000e+00\n",
      "Epoch 2/100\n",
      "3/3 - 0s - loss: 2.8556 - accuracy: 0.0000e+00\n",
      "Epoch 3/100\n",
      "3/3 - 0s - loss: 2.8796 - accuracy: 0.0000e+00\n",
      "Epoch 4/100\n",
      "3/3 - 0s - loss: 2.8857 - accuracy: 0.0000e+00\n",
      "Epoch 5/100\n",
      "3/3 - 0s - loss: 2.8626 - accuracy: 0.0000e+00\n",
      "Epoch 6/100\n",
      "3/3 - 0s - loss: 2.8498 - accuracy: 0.0000e+00\n",
      "Epoch 7/100\n",
      "3/3 - 0s - loss: 2.8519 - accuracy: 0.0000e+00\n",
      "Epoch 8/100\n",
      "3/3 - 0s - loss: 2.8681 - accuracy: 0.0000e+00\n",
      "Epoch 9/100\n",
      "3/3 - 0s - loss: 2.8466 - accuracy: 0.0000e+00\n",
      "Epoch 10/100\n",
      "3/3 - 0s - loss: 2.8384 - accuracy: 0.0000e+00\n",
      "Epoch 11/100\n",
      "3/3 - 0s - loss: 2.8382 - accuracy: 0.0000e+00\n",
      "Epoch 12/100\n",
      "3/3 - 0s - loss: 2.8459 - accuracy: 0.0000e+00\n",
      "Epoch 13/100\n",
      "3/3 - 0s - loss: 2.8415 - accuracy: 0.0000e+00\n",
      "Epoch 14/100\n",
      "3/3 - 0s - loss: 2.8419 - accuracy: 0.0000e+00\n",
      "Epoch 15/100\n",
      "3/3 - 0s - loss: 2.8377 - accuracy: 0.0000e+00\n",
      "Epoch 16/100\n",
      "3/3 - 0s - loss: 2.8491 - accuracy: 0.0000e+00\n",
      "Epoch 17/100\n",
      "3/3 - 0s - loss: 2.8420 - accuracy: 0.0000e+00\n",
      "Epoch 18/100\n",
      "3/3 - 0s - loss: 2.8401 - accuracy: 0.0000e+00\n",
      "Epoch 19/100\n",
      "3/3 - 0s - loss: 2.8406 - accuracy: 0.0000e+00\n",
      "Epoch 20/100\n",
      "3/3 - 0s - loss: 2.8430 - accuracy: 0.0000e+00\n",
      "Epoch 21/100\n",
      "3/3 - 0s - loss: 2.8455 - accuracy: 0.0000e+00\n",
      "Epoch 22/100\n",
      "3/3 - 0s - loss: 2.8403 - accuracy: 0.0000e+00\n",
      "Epoch 23/100\n",
      "3/3 - 0s - loss: 2.8333 - accuracy: 0.0000e+00\n",
      "Epoch 24/100\n",
      "3/3 - 0s - loss: 2.8510 - accuracy: 0.0000e+00\n",
      "Epoch 25/100\n",
      "3/3 - 0s - loss: 2.8573 - accuracy: 0.0000e+00\n",
      "Epoch 26/100\n",
      "3/3 - 0s - loss: 2.8455 - accuracy: 0.0000e+00\n",
      "Epoch 27/100\n",
      "3/3 - 0s - loss: 2.8354 - accuracy: 0.0000e+00\n",
      "Epoch 28/100\n",
      "3/3 - 0s - loss: 2.8394 - accuracy: 0.0000e+00\n",
      "Epoch 29/100\n",
      "3/3 - 0s - loss: 2.8433 - accuracy: 0.0000e+00\n",
      "Epoch 30/100\n",
      "3/3 - 0s - loss: 2.8422 - accuracy: 0.0000e+00\n",
      "Epoch 31/100\n",
      "3/3 - 0s - loss: 2.8441 - accuracy: 0.0000e+00\n",
      "Epoch 32/100\n",
      "3/3 - 0s - loss: 2.8423 - accuracy: 0.0000e+00\n",
      "Epoch 33/100\n",
      "3/3 - 0s - loss: 2.8429 - accuracy: 0.0000e+00\n",
      "Epoch 34/100\n",
      "3/3 - 0s - loss: 2.8424 - accuracy: 0.0000e+00\n",
      "Epoch 35/100\n",
      "3/3 - 0s - loss: 2.8394 - accuracy: 0.0000e+00\n",
      "Epoch 36/100\n",
      "3/3 - 0s - loss: 2.8390 - accuracy: 0.0000e+00\n",
      "Epoch 37/100\n",
      "3/3 - 0s - loss: 2.8394 - accuracy: 0.0000e+00\n",
      "Epoch 38/100\n",
      "3/3 - 0s - loss: 2.8357 - accuracy: 0.0000e+00\n",
      "Epoch 39/100\n",
      "3/3 - 0s - loss: 2.8456 - accuracy: 0.0000e+00\n",
      "Epoch 40/100\n",
      "3/3 - 0s - loss: 2.8489 - accuracy: 0.0000e+00\n",
      "Epoch 41/100\n",
      "3/3 - 0s - loss: 2.8468 - accuracy: 0.0000e+00\n",
      "Epoch 42/100\n",
      "3/3 - 0s - loss: 2.8403 - accuracy: 0.0000e+00\n",
      "Epoch 43/100\n",
      "3/3 - 0s - loss: 2.8394 - accuracy: 0.0000e+00\n",
      "Epoch 44/100\n",
      "3/3 - 0s - loss: 2.8472 - accuracy: 0.0000e+00\n",
      "Epoch 45/100\n",
      "3/3 - 0s - loss: 2.8399 - accuracy: 0.0000e+00\n",
      "Epoch 46/100\n",
      "3/3 - 0s - loss: 2.8535 - accuracy: 0.0000e+00\n",
      "Epoch 47/100\n",
      "3/3 - 0s - loss: 2.8453 - accuracy: 0.0000e+00\n",
      "Epoch 48/100\n",
      "3/3 - 0s - loss: 2.8424 - accuracy: 0.0000e+00\n",
      "Epoch 49/100\n",
      "3/3 - 0s - loss: 2.8567 - accuracy: 0.0000e+00\n",
      "Epoch 50/100\n",
      "3/3 - 0s - loss: 2.8463 - accuracy: 0.0000e+00\n",
      "Epoch 51/100\n",
      "3/3 - 0s - loss: 2.8418 - accuracy: 0.0000e+00\n",
      "Epoch 52/100\n",
      "3/3 - 0s - loss: 2.8349 - accuracy: 0.0000e+00\n",
      "Epoch 53/100\n",
      "3/3 - 0s - loss: 2.8471 - accuracy: 0.0000e+00\n",
      "Epoch 54/100\n",
      "3/3 - 0s - loss: 2.8423 - accuracy: 0.0000e+00\n",
      "Epoch 55/100\n",
      "3/3 - 0s - loss: 2.8417 - accuracy: 0.0000e+00\n",
      "Epoch 56/100\n",
      "3/3 - 0s - loss: 2.8403 - accuracy: 0.0000e+00\n",
      "Epoch 57/100\n",
      "3/3 - 0s - loss: 2.8406 - accuracy: 0.0000e+00\n",
      "Epoch 58/100\n",
      "3/3 - 0s - loss: 2.8410 - accuracy: 0.0000e+00\n",
      "Epoch 59/100\n",
      "3/3 - 0s - loss: 2.8412 - accuracy: 0.0000e+00\n",
      "Epoch 60/100\n",
      "3/3 - 0s - loss: 2.8602 - accuracy: 0.0000e+00\n",
      "Epoch 61/100\n",
      "3/3 - 0s - loss: 2.8440 - accuracy: 0.0000e+00\n",
      "Epoch 62/100\n",
      "3/3 - 0s - loss: 2.8438 - accuracy: 0.0000e+00\n",
      "Epoch 63/100\n",
      "3/3 - 0s - loss: 2.8462 - accuracy: 0.0000e+00\n",
      "Epoch 64/100\n",
      "3/3 - 0s - loss: 2.8416 - accuracy: 0.0000e+00\n",
      "Epoch 65/100\n",
      "3/3 - 0s - loss: 2.8394 - accuracy: 0.0000e+00\n",
      "Epoch 66/100\n",
      "3/3 - 0s - loss: 2.8461 - accuracy: 0.0000e+00\n",
      "Epoch 67/100\n",
      "3/3 - 0s - loss: 2.8488 - accuracy: 0.0000e+00\n",
      "Epoch 68/100\n",
      "3/3 - 0s - loss: 2.8481 - accuracy: 0.0000e+00\n",
      "Epoch 69/100\n",
      "3/3 - 0s - loss: 2.8467 - accuracy: 0.0000e+00\n",
      "Epoch 70/100\n",
      "3/3 - 0s - loss: 2.8352 - accuracy: 0.0000e+00\n",
      "Epoch 71/100\n",
      "3/3 - 0s - loss: 2.8387 - accuracy: 0.0000e+00\n",
      "Epoch 72/100\n",
      "3/3 - 0s - loss: 2.8451 - accuracy: 0.0000e+00\n",
      "Epoch 73/100\n",
      "3/3 - 0s - loss: 2.8539 - accuracy: 0.0000e+00\n",
      "Epoch 74/100\n",
      "3/3 - 0s - loss: 2.8460 - accuracy: 0.0000e+00\n",
      "Epoch 75/100\n",
      "3/3 - 0s - loss: 2.8387 - accuracy: 0.0000e+00\n",
      "Epoch 76/100\n",
      "3/3 - 0s - loss: 2.8395 - accuracy: 0.0000e+00\n",
      "Epoch 77/100\n",
      "3/3 - 0s - loss: 2.8506 - accuracy: 0.0000e+00\n",
      "Epoch 78/100\n",
      "3/3 - 0s - loss: 2.8422 - accuracy: 0.0000e+00\n",
      "Epoch 79/100\n",
      "3/3 - 0s - loss: 2.8457 - accuracy: 0.0000e+00\n",
      "Epoch 80/100\n",
      "3/3 - 0s - loss: 2.8496 - accuracy: 0.0000e+00\n",
      "Epoch 81/100\n",
      "3/3 - 0s - loss: 2.8482 - accuracy: 0.0000e+00\n",
      "Epoch 82/100\n",
      "3/3 - 0s - loss: 2.8452 - accuracy: 0.0000e+00\n",
      "Epoch 83/100\n",
      "3/3 - 0s - loss: 2.8378 - accuracy: 0.0000e+00\n",
      "Epoch 84/100\n",
      "3/3 - 0s - loss: 2.8422 - accuracy: 0.0000e+00\n",
      "Epoch 85/100\n",
      "3/3 - 0s - loss: 2.8471 - accuracy: 0.0000e+00\n",
      "Epoch 86/100\n",
      "3/3 - 0s - loss: 2.8459 - accuracy: 0.0000e+00\n",
      "Epoch 87/100\n",
      "3/3 - 0s - loss: 2.8532 - accuracy: 0.0000e+00\n",
      "Epoch 88/100\n",
      "3/3 - 0s - loss: 2.8460 - accuracy: 0.0000e+00\n",
      "Epoch 89/100\n",
      "3/3 - 0s - loss: 2.8435 - accuracy: 0.0000e+00\n",
      "Epoch 90/100\n",
      "3/3 - 0s - loss: 2.8467 - accuracy: 0.0000e+00\n",
      "Epoch 91/100\n",
      "3/3 - 0s - loss: 2.8563 - accuracy: 0.0000e+00\n",
      "Epoch 92/100\n",
      "3/3 - 0s - loss: 2.8601 - accuracy: 0.0000e+00\n",
      "Epoch 93/100\n",
      "3/3 - 0s - loss: 2.8521 - accuracy: 0.0000e+00\n",
      "Epoch 94/100\n",
      "3/3 - 0s - loss: 2.8446 - accuracy: 0.0000e+00\n",
      "Epoch 95/100\n",
      "3/3 - 0s - loss: 2.8475 - accuracy: 0.0000e+00\n",
      "Epoch 96/100\n",
      "3/3 - 0s - loss: 2.8501 - accuracy: 0.0000e+00\n",
      "Epoch 97/100\n",
      "3/3 - 0s - loss: 2.8442 - accuracy: 0.0000e+00\n",
      "Epoch 98/100\n",
      "3/3 - 0s - loss: 2.8494 - accuracy: 0.0000e+00\n",
      "Epoch 99/100\n",
      "3/3 - 0s - loss: 2.8466 - accuracy: 0.0000e+00\n",
      "Epoch 100/100\n",
      "3/3 - 0s - loss: 2.8431 - accuracy: 0.0000e+00\n"
     ]
    },
    {
     "data": {
      "text/plain": [
       "<tensorflow.python.keras.callbacks.History at 0x7f8cf9ce97f0>"
      ]
     },
     "execution_count": 25,
     "metadata": {},
     "output_type": "execute_result"
    }
   ],
   "source": [
    "model.fit(x_train,y_train, epochs = 100, verbose=2)"
   ]
  },
  {
   "cell_type": "markdown",
   "metadata": {},
   "source": [
    "oups these ranking metrics really suck"
   ]
  },
  {
   "cell_type": "code",
   "execution_count": 26,
   "metadata": {},
   "outputs": [
    {
     "name": "stdout",
     "output_type": "stream",
     "text": [
      "1/1 [==============================] - 0s 82ms/step - loss: 5.9559 - accuracy: 0.0000e+00\n"
     ]
    },
    {
     "data": {
      "text/plain": [
       "[5.955856800079346, 0.0]"
      ]
     },
     "execution_count": 26,
     "metadata": {},
     "output_type": "execute_result"
    }
   ],
   "source": [
    "model.evaluate(x_test,y_test, verbose = 1)"
   ]
  }
 ],
 "metadata": {
  "interpreter": {
   "hash": "aee8b7b246df8f9039afb4144a1f6fd8d2ca17a180786b69acc140d282b71a49"
  },
  "kernelspec": {
   "display_name": "Python 3.9.5 64-bit",
   "language": "python",
   "name": "python3"
  },
  "language_info": {
   "codemirror_mode": {
    "name": "ipython",
    "version": 3
   },
   "file_extension": ".py",
   "mimetype": "text/x-python",
   "name": "python",
   "nbconvert_exporter": "python",
   "pygments_lexer": "ipython3",
   "version": "3.9.5"
  },
  "orig_nbformat": 4
 },
 "nbformat": 4,
 "nbformat_minor": 2
}
